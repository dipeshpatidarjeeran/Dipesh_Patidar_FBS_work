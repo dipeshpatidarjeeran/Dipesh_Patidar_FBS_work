{
 "cells": [
  {
   "cell_type": "code",
   "execution_count": 1,
   "id": "f9554755-8a25-41e0-af42-a91bf018faf3",
   "metadata": {},
   "outputs": [],
   "source": [
    "import pandas as pd\n",
    "import numpy as np\n",
    "import matplotlib.pyplot as plt\n",
    "import seaborn as sns"
   ]
  },
  {
   "cell_type": "markdown",
   "id": "8440076d-2325-46cc-8cd6-332d6374270d",
   "metadata": {},
   "source": [
    "# Part A: Data Preparation\n",
    "### 1. Load dataset & display first 5 rows.\n"
   ]
  },
  {
   "cell_type": "code",
   "execution_count": 2,
   "id": "a59e7be1-9a5b-418d-9e66-88c4e10716ba",
   "metadata": {},
   "outputs": [],
   "source": [
    "dataset = pd.read_csv(\"employee_performance_dataset.csv\")"
   ]
  },
  {
   "cell_type": "code",
   "execution_count": 3,
   "id": "584f9dd7-b0ef-4f0c-a1b8-a08786ee637c",
   "metadata": {},
   "outputs": [
    {
     "data": {
      "text/html": [
       "<div>\n",
       "<style scoped>\n",
       "    .dataframe tbody tr th:only-of-type {\n",
       "        vertical-align: middle;\n",
       "    }\n",
       "\n",
       "    .dataframe tbody tr th {\n",
       "        vertical-align: top;\n",
       "    }\n",
       "\n",
       "    .dataframe thead th {\n",
       "        text-align: right;\n",
       "    }\n",
       "</style>\n",
       "<table border=\"1\" class=\"dataframe\">\n",
       "  <thead>\n",
       "    <tr style=\"text-align: right;\">\n",
       "      <th></th>\n",
       "      <th>Employee_ID</th>\n",
       "      <th>Name</th>\n",
       "      <th>Department</th>\n",
       "      <th>Age</th>\n",
       "      <th>Gender</th>\n",
       "      <th>Years_at_Company</th>\n",
       "      <th>Goals_Achieved</th>\n",
       "      <th>Projects_Completed</th>\n",
       "      <th>Trainings_Attended</th>\n",
       "      <th>Attendance_%</th>\n",
       "      <th>Customer_Feedback</th>\n",
       "      <th>Salary(LPA)</th>\n",
       "      <th>Performance_Score</th>\n",
       "    </tr>\n",
       "  </thead>\n",
       "  <tbody>\n",
       "    <tr>\n",
       "      <th>0</th>\n",
       "      <td>E1000</td>\n",
       "      <td>Seth</td>\n",
       "      <td>Sales</td>\n",
       "      <td>50</td>\n",
       "      <td>Male</td>\n",
       "      <td>11</td>\n",
       "      <td>12</td>\n",
       "      <td>5</td>\n",
       "      <td>1</td>\n",
       "      <td>74.679836</td>\n",
       "      <td>8</td>\n",
       "      <td>8.67</td>\n",
       "      <td>7.3</td>\n",
       "    </tr>\n",
       "    <tr>\n",
       "      <th>1</th>\n",
       "      <td>E1001</td>\n",
       "      <td>Maria</td>\n",
       "      <td>IT</td>\n",
       "      <td>45</td>\n",
       "      <td>Male</td>\n",
       "      <td>3</td>\n",
       "      <td>10</td>\n",
       "      <td>5</td>\n",
       "      <td>1</td>\n",
       "      <td>91.659963</td>\n",
       "      <td>6</td>\n",
       "      <td>3.01</td>\n",
       "      <td>6.3</td>\n",
       "    </tr>\n",
       "    <tr>\n",
       "      <th>2</th>\n",
       "      <td>E1002</td>\n",
       "      <td>Mary</td>\n",
       "      <td>HR</td>\n",
       "      <td>42</td>\n",
       "      <td>Male</td>\n",
       "      <td>1</td>\n",
       "      <td>16</td>\n",
       "      <td>10</td>\n",
       "      <td>5</td>\n",
       "      <td>70.211989</td>\n",
       "      <td>9</td>\n",
       "      <td>7.95</td>\n",
       "      <td>11.3</td>\n",
       "    </tr>\n",
       "    <tr>\n",
       "      <th>3</th>\n",
       "      <td>E1003</td>\n",
       "      <td>Kyle</td>\n",
       "      <td>Sales</td>\n",
       "      <td>49</td>\n",
       "      <td>Male</td>\n",
       "      <td>12</td>\n",
       "      <td>20</td>\n",
       "      <td>3</td>\n",
       "      <td>3</td>\n",
       "      <td>85.427033</td>\n",
       "      <td>9</td>\n",
       "      <td>3.79</td>\n",
       "      <td>10.4</td>\n",
       "    </tr>\n",
       "    <tr>\n",
       "      <th>4</th>\n",
       "      <td>E1004</td>\n",
       "      <td>Sandra</td>\n",
       "      <td>Marketing</td>\n",
       "      <td>28</td>\n",
       "      <td>Female</td>\n",
       "      <td>5</td>\n",
       "      <td>13</td>\n",
       "      <td>7</td>\n",
       "      <td>1</td>\n",
       "      <td>98.466566</td>\n",
       "      <td>2</td>\n",
       "      <td>9.55</td>\n",
       "      <td>7.7</td>\n",
       "    </tr>\n",
       "  </tbody>\n",
       "</table>\n",
       "</div>"
      ],
      "text/plain": [
       "  Employee_ID    Name Department  Age  Gender  Years_at_Company  \\\n",
       "0       E1000    Seth      Sales   50    Male                11   \n",
       "1       E1001   Maria         IT   45    Male                 3   \n",
       "2       E1002    Mary         HR   42    Male                 1   \n",
       "3       E1003    Kyle      Sales   49    Male                12   \n",
       "4       E1004  Sandra  Marketing   28  Female                 5   \n",
       "\n",
       "   Goals_Achieved  Projects_Completed  Trainings_Attended  Attendance_%  \\\n",
       "0              12                   5                   1     74.679836   \n",
       "1              10                   5                   1     91.659963   \n",
       "2              16                  10                   5     70.211989   \n",
       "3              20                   3                   3     85.427033   \n",
       "4              13                   7                   1     98.466566   \n",
       "\n",
       "   Customer_Feedback  Salary(LPA)  Performance_Score  \n",
       "0                  8         8.67                7.3  \n",
       "1                  6         3.01                6.3  \n",
       "2                  9         7.95               11.3  \n",
       "3                  9         3.79               10.4  \n",
       "4                  2         9.55                7.7  "
      ]
     },
     "execution_count": 3,
     "metadata": {},
     "output_type": "execute_result"
    }
   ],
   "source": [
    "dataset.head()"
   ]
  },
  {
   "cell_type": "markdown",
   "id": "cc2ba462-8b25-44ac-8002-2fc0aabba1ed",
   "metadata": {},
   "source": [
    "### 2.\tCheck for missing values, datatypes, and descriptive statistics."
   ]
  },
  {
   "cell_type": "code",
   "execution_count": 4,
   "id": "86c625a7-917a-412f-ab5a-44504559b91d",
   "metadata": {},
   "outputs": [
    {
     "name": "stdout",
     "output_type": "stream",
     "text": [
      "<class 'pandas.core.frame.DataFrame'>\n",
      "RangeIndex: 500 entries, 0 to 499\n",
      "Data columns (total 13 columns):\n",
      " #   Column              Non-Null Count  Dtype  \n",
      "---  ------              --------------  -----  \n",
      " 0   Employee_ID         500 non-null    object \n",
      " 1   Name                500 non-null    object \n",
      " 2   Department          500 non-null    object \n",
      " 3   Age                 500 non-null    int64  \n",
      " 4   Gender              500 non-null    object \n",
      " 5   Years_at_Company    500 non-null    int64  \n",
      " 6   Goals_Achieved      500 non-null    int64  \n",
      " 7   Projects_Completed  500 non-null    int64  \n",
      " 8   Trainings_Attended  500 non-null    int64  \n",
      " 9   Attendance_%        500 non-null    float64\n",
      " 10  Customer_Feedback   500 non-null    int64  \n",
      " 11  Salary(LPA)         500 non-null    float64\n",
      " 12  Performance_Score   500 non-null    float64\n",
      "dtypes: float64(3), int64(6), object(4)\n",
      "memory usage: 50.9+ KB\n"
     ]
    }
   ],
   "source": [
    "dataset.info()"
   ]
  },
  {
   "cell_type": "code",
   "execution_count": 5,
   "id": "e1e6dfb4-e6aa-4274-b319-986772696a2a",
   "metadata": {},
   "outputs": [
    {
     "data": {
      "text/html": [
       "<div>\n",
       "<style scoped>\n",
       "    .dataframe tbody tr th:only-of-type {\n",
       "        vertical-align: middle;\n",
       "    }\n",
       "\n",
       "    .dataframe tbody tr th {\n",
       "        vertical-align: top;\n",
       "    }\n",
       "\n",
       "    .dataframe thead th {\n",
       "        text-align: right;\n",
       "    }\n",
       "</style>\n",
       "<table border=\"1\" class=\"dataframe\">\n",
       "  <thead>\n",
       "    <tr style=\"text-align: right;\">\n",
       "      <th></th>\n",
       "      <th>Age</th>\n",
       "      <th>Years_at_Company</th>\n",
       "      <th>Goals_Achieved</th>\n",
       "      <th>Projects_Completed</th>\n",
       "      <th>Trainings_Attended</th>\n",
       "      <th>Attendance_%</th>\n",
       "      <th>Customer_Feedback</th>\n",
       "      <th>Salary(LPA)</th>\n",
       "      <th>Performance_Score</th>\n",
       "    </tr>\n",
       "  </thead>\n",
       "  <tbody>\n",
       "    <tr>\n",
       "      <th>count</th>\n",
       "      <td>500.00000</td>\n",
       "      <td>500.000000</td>\n",
       "      <td>500.000000</td>\n",
       "      <td>500.000000</td>\n",
       "      <td>500.000000</td>\n",
       "      <td>500.000000</td>\n",
       "      <td>500.000000</td>\n",
       "      <td>500.00000</td>\n",
       "      <td>500.00000</td>\n",
       "    </tr>\n",
       "    <tr>\n",
       "      <th>mean</th>\n",
       "      <td>40.14400</td>\n",
       "      <td>7.434000</td>\n",
       "      <td>12.292000</td>\n",
       "      <td>5.316000</td>\n",
       "      <td>2.424000</td>\n",
       "      <td>85.232441</td>\n",
       "      <td>5.392000</td>\n",
       "      <td>11.56360</td>\n",
       "      <td>7.53560</td>\n",
       "    </tr>\n",
       "    <tr>\n",
       "      <th>std</th>\n",
       "      <td>10.69411</td>\n",
       "      <td>4.027168</td>\n",
       "      <td>4.480053</td>\n",
       "      <td>2.910169</td>\n",
       "      <td>1.757955</td>\n",
       "      <td>8.677635</td>\n",
       "      <td>2.839447</td>\n",
       "      <td>4.96614</td>\n",
       "      <td>2.05453</td>\n",
       "    </tr>\n",
       "    <tr>\n",
       "      <th>min</th>\n",
       "      <td>22.00000</td>\n",
       "      <td>1.000000</td>\n",
       "      <td>5.000000</td>\n",
       "      <td>1.000000</td>\n",
       "      <td>0.000000</td>\n",
       "      <td>70.004041</td>\n",
       "      <td>1.000000</td>\n",
       "      <td>3.01000</td>\n",
       "      <td>3.30000</td>\n",
       "    </tr>\n",
       "    <tr>\n",
       "      <th>25%</th>\n",
       "      <td>31.00000</td>\n",
       "      <td>4.000000</td>\n",
       "      <td>9.000000</td>\n",
       "      <td>3.000000</td>\n",
       "      <td>1.000000</td>\n",
       "      <td>77.574124</td>\n",
       "      <td>3.000000</td>\n",
       "      <td>7.21500</td>\n",
       "      <td>5.97500</td>\n",
       "    </tr>\n",
       "    <tr>\n",
       "      <th>50%</th>\n",
       "      <td>41.00000</td>\n",
       "      <td>7.000000</td>\n",
       "      <td>12.000000</td>\n",
       "      <td>5.000000</td>\n",
       "      <td>2.000000</td>\n",
       "      <td>85.559802</td>\n",
       "      <td>5.000000</td>\n",
       "      <td>11.77500</td>\n",
       "      <td>7.55000</td>\n",
       "    </tr>\n",
       "    <tr>\n",
       "      <th>75%</th>\n",
       "      <td>49.00000</td>\n",
       "      <td>11.000000</td>\n",
       "      <td>16.000000</td>\n",
       "      <td>8.000000</td>\n",
       "      <td>4.000000</td>\n",
       "      <td>92.881806</td>\n",
       "      <td>8.000000</td>\n",
       "      <td>15.94500</td>\n",
       "      <td>9.00000</td>\n",
       "    </tr>\n",
       "    <tr>\n",
       "      <th>max</th>\n",
       "      <td>59.00000</td>\n",
       "      <td>14.000000</td>\n",
       "      <td>20.000000</td>\n",
       "      <td>10.000000</td>\n",
       "      <td>5.000000</td>\n",
       "      <td>99.912345</td>\n",
       "      <td>10.000000</td>\n",
       "      <td>20.00000</td>\n",
       "      <td>12.30000</td>\n",
       "    </tr>\n",
       "  </tbody>\n",
       "</table>\n",
       "</div>"
      ],
      "text/plain": [
       "             Age  Years_at_Company  Goals_Achieved  Projects_Completed  \\\n",
       "count  500.00000        500.000000      500.000000          500.000000   \n",
       "mean    40.14400          7.434000       12.292000            5.316000   \n",
       "std     10.69411          4.027168        4.480053            2.910169   \n",
       "min     22.00000          1.000000        5.000000            1.000000   \n",
       "25%     31.00000          4.000000        9.000000            3.000000   \n",
       "50%     41.00000          7.000000       12.000000            5.000000   \n",
       "75%     49.00000         11.000000       16.000000            8.000000   \n",
       "max     59.00000         14.000000       20.000000           10.000000   \n",
       "\n",
       "       Trainings_Attended  Attendance_%  Customer_Feedback  Salary(LPA)  \\\n",
       "count          500.000000    500.000000         500.000000    500.00000   \n",
       "mean             2.424000     85.232441           5.392000     11.56360   \n",
       "std              1.757955      8.677635           2.839447      4.96614   \n",
       "min              0.000000     70.004041           1.000000      3.01000   \n",
       "25%              1.000000     77.574124           3.000000      7.21500   \n",
       "50%              2.000000     85.559802           5.000000     11.77500   \n",
       "75%              4.000000     92.881806           8.000000     15.94500   \n",
       "max              5.000000     99.912345          10.000000     20.00000   \n",
       "\n",
       "       Performance_Score  \n",
       "count          500.00000  \n",
       "mean             7.53560  \n",
       "std              2.05453  \n",
       "min              3.30000  \n",
       "25%              5.97500  \n",
       "50%              7.55000  \n",
       "75%              9.00000  \n",
       "max             12.30000  "
      ]
     },
     "execution_count": 5,
     "metadata": {},
     "output_type": "execute_result"
    }
   ],
   "source": [
    "dataset.describe()"
   ]
  },
  {
   "cell_type": "code",
   "execution_count": 6,
   "id": "c064827f-6ad6-4482-b16b-a97fe0f93771",
   "metadata": {},
   "outputs": [
    {
     "data": {
      "text/plain": [
       "Employee_ID           0\n",
       "Name                  0\n",
       "Department            0\n",
       "Age                   0\n",
       "Gender                0\n",
       "Years_at_Company      0\n",
       "Goals_Achieved        0\n",
       "Projects_Completed    0\n",
       "Trainings_Attended    0\n",
       "Attendance_%          0\n",
       "Customer_Feedback     0\n",
       "Salary(LPA)           0\n",
       "Performance_Score     0\n",
       "dtype: int64"
      ]
     },
     "execution_count": 6,
     "metadata": {},
     "output_type": "execute_result"
    }
   ],
   "source": [
    "dataset.isna().sum()"
   ]
  },
  {
   "cell_type": "markdown",
   "id": "a01be553-6607-4e2d-80e8-5a40fd973ff5",
   "metadata": {},
   "source": [
    "### 3.\tCategorize employees into age groups: 22–30, 31–40, 41–50, 51+."
   ]
  },
  {
   "cell_type": "code",
   "execution_count": 7,
   "id": "6d56e926-d5c9-4109-8a13-a68c3b2edc2f",
   "metadata": {},
   "outputs": [
    {
     "data": {
      "text/html": [
       "<div>\n",
       "<style scoped>\n",
       "    .dataframe tbody tr th:only-of-type {\n",
       "        vertical-align: middle;\n",
       "    }\n",
       "\n",
       "    .dataframe tbody tr th {\n",
       "        vertical-align: top;\n",
       "    }\n",
       "\n",
       "    .dataframe thead th {\n",
       "        text-align: right;\n",
       "    }\n",
       "</style>\n",
       "<table border=\"1\" class=\"dataframe\">\n",
       "  <thead>\n",
       "    <tr style=\"text-align: right;\">\n",
       "      <th></th>\n",
       "      <th>Employee_ID</th>\n",
       "      <th>Name</th>\n",
       "      <th>Department</th>\n",
       "      <th>Age</th>\n",
       "      <th>Gender</th>\n",
       "      <th>Years_at_Company</th>\n",
       "      <th>Goals_Achieved</th>\n",
       "      <th>Projects_Completed</th>\n",
       "      <th>Trainings_Attended</th>\n",
       "      <th>Attendance_%</th>\n",
       "      <th>Customer_Feedback</th>\n",
       "      <th>Salary(LPA)</th>\n",
       "      <th>Performance_Score</th>\n",
       "    </tr>\n",
       "  </thead>\n",
       "  <tbody>\n",
       "    <tr>\n",
       "      <th>0</th>\n",
       "      <td>E1000</td>\n",
       "      <td>Seth</td>\n",
       "      <td>Sales</td>\n",
       "      <td>50</td>\n",
       "      <td>Male</td>\n",
       "      <td>11</td>\n",
       "      <td>12</td>\n",
       "      <td>5</td>\n",
       "      <td>1</td>\n",
       "      <td>74.679836</td>\n",
       "      <td>8</td>\n",
       "      <td>8.67</td>\n",
       "      <td>7.3</td>\n",
       "    </tr>\n",
       "    <tr>\n",
       "      <th>1</th>\n",
       "      <td>E1001</td>\n",
       "      <td>Maria</td>\n",
       "      <td>IT</td>\n",
       "      <td>45</td>\n",
       "      <td>Male</td>\n",
       "      <td>3</td>\n",
       "      <td>10</td>\n",
       "      <td>5</td>\n",
       "      <td>1</td>\n",
       "      <td>91.659963</td>\n",
       "      <td>6</td>\n",
       "      <td>3.01</td>\n",
       "      <td>6.3</td>\n",
       "    </tr>\n",
       "    <tr>\n",
       "      <th>2</th>\n",
       "      <td>E1002</td>\n",
       "      <td>Mary</td>\n",
       "      <td>HR</td>\n",
       "      <td>42</td>\n",
       "      <td>Male</td>\n",
       "      <td>1</td>\n",
       "      <td>16</td>\n",
       "      <td>10</td>\n",
       "      <td>5</td>\n",
       "      <td>70.211989</td>\n",
       "      <td>9</td>\n",
       "      <td>7.95</td>\n",
       "      <td>11.3</td>\n",
       "    </tr>\n",
       "    <tr>\n",
       "      <th>3</th>\n",
       "      <td>E1003</td>\n",
       "      <td>Kyle</td>\n",
       "      <td>Sales</td>\n",
       "      <td>49</td>\n",
       "      <td>Male</td>\n",
       "      <td>12</td>\n",
       "      <td>20</td>\n",
       "      <td>3</td>\n",
       "      <td>3</td>\n",
       "      <td>85.427033</td>\n",
       "      <td>9</td>\n",
       "      <td>3.79</td>\n",
       "      <td>10.4</td>\n",
       "    </tr>\n",
       "    <tr>\n",
       "      <th>4</th>\n",
       "      <td>E1004</td>\n",
       "      <td>Sandra</td>\n",
       "      <td>Marketing</td>\n",
       "      <td>28</td>\n",
       "      <td>Female</td>\n",
       "      <td>5</td>\n",
       "      <td>13</td>\n",
       "      <td>7</td>\n",
       "      <td>1</td>\n",
       "      <td>98.466566</td>\n",
       "      <td>2</td>\n",
       "      <td>9.55</td>\n",
       "      <td>7.7</td>\n",
       "    </tr>\n",
       "  </tbody>\n",
       "</table>\n",
       "</div>"
      ],
      "text/plain": [
       "  Employee_ID    Name Department  Age  Gender  Years_at_Company  \\\n",
       "0       E1000    Seth      Sales   50    Male                11   \n",
       "1       E1001   Maria         IT   45    Male                 3   \n",
       "2       E1002    Mary         HR   42    Male                 1   \n",
       "3       E1003    Kyle      Sales   49    Male                12   \n",
       "4       E1004  Sandra  Marketing   28  Female                 5   \n",
       "\n",
       "   Goals_Achieved  Projects_Completed  Trainings_Attended  Attendance_%  \\\n",
       "0              12                   5                   1     74.679836   \n",
       "1              10                   5                   1     91.659963   \n",
       "2              16                  10                   5     70.211989   \n",
       "3              20                   3                   3     85.427033   \n",
       "4              13                   7                   1     98.466566   \n",
       "\n",
       "   Customer_Feedback  Salary(LPA)  Performance_Score  \n",
       "0                  8         8.67                7.3  \n",
       "1                  6         3.01                6.3  \n",
       "2                  9         7.95               11.3  \n",
       "3                  9         3.79               10.4  \n",
       "4                  2         9.55                7.7  "
      ]
     },
     "execution_count": 7,
     "metadata": {},
     "output_type": "execute_result"
    }
   ],
   "source": [
    "dataset.head()\n"
   ]
  },
  {
   "cell_type": "code",
   "execution_count": 8,
   "id": "e95c71d6-54ee-4ca4-9a19-55f8c04ba578",
   "metadata": {},
   "outputs": [],
   "source": [
    "def ageGroup(a):\n",
    "    if a <=30:\n",
    "        return \"22-30\" \n",
    "    elif a <=40:\n",
    "        return \"31-40\" \n",
    "    elif a<=50:\n",
    "        return \"41-50\"\n",
    "    else:\n",
    "        return \"51+\"\n",
    "dataset['Age Groups'] = dataset['Age'].apply(ageGroup)"
   ]
  },
  {
   "cell_type": "markdown",
   "id": "034392c5-d091-444b-8332-3759c8c06640",
   "metadata": {},
   "source": [
    "# Part B: Exploratory Data Analysis (EDA)\n",
    "### 1.\tFind average performance by department.\n"
   ]
  },
  {
   "cell_type": "code",
   "execution_count": 9,
   "id": "da00d386-b340-4abf-9b90-d4a62706747b",
   "metadata": {},
   "outputs": [
    {
     "data": {
      "text/plain": [
       "Department\n",
       "Finance      7.658654\n",
       "HR           7.073404\n",
       "IT           7.702041\n",
       "Marketing    7.535714\n",
       "Sales        7.691304\n",
       "Name: Performance_Score, dtype: float64"
      ]
     },
     "execution_count": 9,
     "metadata": {},
     "output_type": "execute_result"
    }
   ],
   "source": [
    "dataset.groupby(\"Department\")[\"Performance_Score\"].mean()\n"
   ]
  },
  {
   "cell_type": "markdown",
   "id": "7920c8c4-24f2-4f0d-8906-26a9f6747e04",
   "metadata": {},
   "source": [
    "### 2.\tFind the top 10 employees by performance score."
   ]
  },
  {
   "cell_type": "code",
   "execution_count": 10,
   "id": "1b511dcc-c07d-4915-899a-ca0e529f7843",
   "metadata": {},
   "outputs": [
    {
     "data": {
      "text/html": [
       "<div>\n",
       "<style scoped>\n",
       "    .dataframe tbody tr th:only-of-type {\n",
       "        vertical-align: middle;\n",
       "    }\n",
       "\n",
       "    .dataframe tbody tr th {\n",
       "        vertical-align: top;\n",
       "    }\n",
       "\n",
       "    .dataframe thead th {\n",
       "        text-align: right;\n",
       "    }\n",
       "</style>\n",
       "<table border=\"1\" class=\"dataframe\">\n",
       "  <thead>\n",
       "    <tr style=\"text-align: right;\">\n",
       "      <th></th>\n",
       "      <th>Employee_ID</th>\n",
       "      <th>Name</th>\n",
       "      <th>Department</th>\n",
       "      <th>Age</th>\n",
       "      <th>Gender</th>\n",
       "      <th>Years_at_Company</th>\n",
       "      <th>Goals_Achieved</th>\n",
       "      <th>Projects_Completed</th>\n",
       "      <th>Trainings_Attended</th>\n",
       "      <th>Attendance_%</th>\n",
       "      <th>Customer_Feedback</th>\n",
       "      <th>Salary(LPA)</th>\n",
       "      <th>Performance_Score</th>\n",
       "      <th>Age Groups</th>\n",
       "    </tr>\n",
       "  </thead>\n",
       "  <tbody>\n",
       "    <tr>\n",
       "      <th>302</th>\n",
       "      <td>E1302</td>\n",
       "      <td>Carol</td>\n",
       "      <td>Sales</td>\n",
       "      <td>23</td>\n",
       "      <td>Male</td>\n",
       "      <td>9</td>\n",
       "      <td>20</td>\n",
       "      <td>9</td>\n",
       "      <td>3</td>\n",
       "      <td>85.724775</td>\n",
       "      <td>10</td>\n",
       "      <td>15.94</td>\n",
       "      <td>12.3</td>\n",
       "      <td>22-30</td>\n",
       "    </tr>\n",
       "    <tr>\n",
       "      <th>166</th>\n",
       "      <td>E1166</td>\n",
       "      <td>John</td>\n",
       "      <td>HR</td>\n",
       "      <td>39</td>\n",
       "      <td>Female</td>\n",
       "      <td>1</td>\n",
       "      <td>20</td>\n",
       "      <td>10</td>\n",
       "      <td>3</td>\n",
       "      <td>76.988784</td>\n",
       "      <td>7</td>\n",
       "      <td>10.85</td>\n",
       "      <td>12.3</td>\n",
       "      <td>31-40</td>\n",
       "    </tr>\n",
       "    <tr>\n",
       "      <th>245</th>\n",
       "      <td>E1245</td>\n",
       "      <td>Brittany</td>\n",
       "      <td>Marketing</td>\n",
       "      <td>32</td>\n",
       "      <td>Female</td>\n",
       "      <td>7</td>\n",
       "      <td>19</td>\n",
       "      <td>10</td>\n",
       "      <td>4</td>\n",
       "      <td>75.537554</td>\n",
       "      <td>8</td>\n",
       "      <td>16.49</td>\n",
       "      <td>12.2</td>\n",
       "      <td>31-40</td>\n",
       "    </tr>\n",
       "    <tr>\n",
       "      <th>252</th>\n",
       "      <td>E1252</td>\n",
       "      <td>Lisa</td>\n",
       "      <td>HR</td>\n",
       "      <td>49</td>\n",
       "      <td>Female</td>\n",
       "      <td>7</td>\n",
       "      <td>20</td>\n",
       "      <td>10</td>\n",
       "      <td>0</td>\n",
       "      <td>81.727180</td>\n",
       "      <td>9</td>\n",
       "      <td>11.45</td>\n",
       "      <td>11.9</td>\n",
       "      <td>41-50</td>\n",
       "    </tr>\n",
       "    <tr>\n",
       "      <th>467</th>\n",
       "      <td>E1467</td>\n",
       "      <td>Patrick</td>\n",
       "      <td>Sales</td>\n",
       "      <td>57</td>\n",
       "      <td>Female</td>\n",
       "      <td>7</td>\n",
       "      <td>20</td>\n",
       "      <td>8</td>\n",
       "      <td>5</td>\n",
       "      <td>81.795856</td>\n",
       "      <td>5</td>\n",
       "      <td>5.54</td>\n",
       "      <td>11.9</td>\n",
       "      <td>51+</td>\n",
       "    </tr>\n",
       "    <tr>\n",
       "      <th>154</th>\n",
       "      <td>E1154</td>\n",
       "      <td>Kelly</td>\n",
       "      <td>Marketing</td>\n",
       "      <td>55</td>\n",
       "      <td>Female</td>\n",
       "      <td>7</td>\n",
       "      <td>19</td>\n",
       "      <td>8</td>\n",
       "      <td>5</td>\n",
       "      <td>74.050038</td>\n",
       "      <td>8</td>\n",
       "      <td>6.65</td>\n",
       "      <td>11.8</td>\n",
       "      <td>51+</td>\n",
       "    </tr>\n",
       "    <tr>\n",
       "      <th>342</th>\n",
       "      <td>E1342</td>\n",
       "      <td>Scott</td>\n",
       "      <td>Finance</td>\n",
       "      <td>32</td>\n",
       "      <td>Female</td>\n",
       "      <td>2</td>\n",
       "      <td>19</td>\n",
       "      <td>9</td>\n",
       "      <td>4</td>\n",
       "      <td>77.629659</td>\n",
       "      <td>6</td>\n",
       "      <td>17.08</td>\n",
       "      <td>11.7</td>\n",
       "      <td>31-40</td>\n",
       "    </tr>\n",
       "    <tr>\n",
       "      <th>202</th>\n",
       "      <td>E1202</td>\n",
       "      <td>Sarah</td>\n",
       "      <td>IT</td>\n",
       "      <td>52</td>\n",
       "      <td>Female</td>\n",
       "      <td>6</td>\n",
       "      <td>20</td>\n",
       "      <td>9</td>\n",
       "      <td>0</td>\n",
       "      <td>98.579459</td>\n",
       "      <td>9</td>\n",
       "      <td>3.67</td>\n",
       "      <td>11.6</td>\n",
       "      <td>51+</td>\n",
       "    </tr>\n",
       "    <tr>\n",
       "      <th>81</th>\n",
       "      <td>E1081</td>\n",
       "      <td>Martin</td>\n",
       "      <td>IT</td>\n",
       "      <td>22</td>\n",
       "      <td>Female</td>\n",
       "      <td>5</td>\n",
       "      <td>20</td>\n",
       "      <td>7</td>\n",
       "      <td>5</td>\n",
       "      <td>90.751432</td>\n",
       "      <td>5</td>\n",
       "      <td>20.00</td>\n",
       "      <td>11.6</td>\n",
       "      <td>22-30</td>\n",
       "    </tr>\n",
       "    <tr>\n",
       "      <th>128</th>\n",
       "      <td>E1128</td>\n",
       "      <td>Stephen</td>\n",
       "      <td>IT</td>\n",
       "      <td>36</td>\n",
       "      <td>Male</td>\n",
       "      <td>5</td>\n",
       "      <td>19</td>\n",
       "      <td>9</td>\n",
       "      <td>4</td>\n",
       "      <td>80.055917</td>\n",
       "      <td>4</td>\n",
       "      <td>16.39</td>\n",
       "      <td>11.5</td>\n",
       "      <td>31-40</td>\n",
       "    </tr>\n",
       "  </tbody>\n",
       "</table>\n",
       "</div>"
      ],
      "text/plain": [
       "    Employee_ID      Name Department  Age  Gender  Years_at_Company  \\\n",
       "302       E1302     Carol      Sales   23    Male                 9   \n",
       "166       E1166      John         HR   39  Female                 1   \n",
       "245       E1245  Brittany  Marketing   32  Female                 7   \n",
       "252       E1252      Lisa         HR   49  Female                 7   \n",
       "467       E1467   Patrick      Sales   57  Female                 7   \n",
       "154       E1154     Kelly  Marketing   55  Female                 7   \n",
       "342       E1342     Scott    Finance   32  Female                 2   \n",
       "202       E1202     Sarah         IT   52  Female                 6   \n",
       "81        E1081    Martin         IT   22  Female                 5   \n",
       "128       E1128   Stephen         IT   36    Male                 5   \n",
       "\n",
       "     Goals_Achieved  Projects_Completed  Trainings_Attended  Attendance_%  \\\n",
       "302              20                   9                   3     85.724775   \n",
       "166              20                  10                   3     76.988784   \n",
       "245              19                  10                   4     75.537554   \n",
       "252              20                  10                   0     81.727180   \n",
       "467              20                   8                   5     81.795856   \n",
       "154              19                   8                   5     74.050038   \n",
       "342              19                   9                   4     77.629659   \n",
       "202              20                   9                   0     98.579459   \n",
       "81               20                   7                   5     90.751432   \n",
       "128              19                   9                   4     80.055917   \n",
       "\n",
       "     Customer_Feedback  Salary(LPA)  Performance_Score Age Groups  \n",
       "302                 10        15.94               12.3      22-30  \n",
       "166                  7        10.85               12.3      31-40  \n",
       "245                  8        16.49               12.2      31-40  \n",
       "252                  9        11.45               11.9      41-50  \n",
       "467                  5         5.54               11.9        51+  \n",
       "154                  8         6.65               11.8        51+  \n",
       "342                  6        17.08               11.7      31-40  \n",
       "202                  9         3.67               11.6        51+  \n",
       "81                   5        20.00               11.6      22-30  \n",
       "128                  4        16.39               11.5      31-40  "
      ]
     },
     "execution_count": 10,
     "metadata": {},
     "output_type": "execute_result"
    }
   ],
   "source": [
    "dataset.sort_values(by='Performance_Score',ascending=False).head(10)"
   ]
  },
  {
   "cell_type": "markdown",
   "id": "3c1d38b4-9c6b-4a26-832b-5eb59a7271cf",
   "metadata": {},
   "source": [
    "### 3.\tCompare average salary across departments."
   ]
  },
  {
   "cell_type": "code",
   "execution_count": 12,
   "id": "db66da8e-0dd1-4261-8d39-6f835d67a8de",
   "metadata": {},
   "outputs": [
    {
     "data": {
      "text/plain": [
       "Department\n",
       "Finance      11.619423\n",
       "HR           10.774149\n",
       "IT           12.030306\n",
       "Marketing    11.666875\n",
       "Sales        11.684239\n",
       "Name: Salary(LPA), dtype: float64"
      ]
     },
     "execution_count": 12,
     "metadata": {},
     "output_type": "execute_result"
    }
   ],
   "source": [
    "dataset.groupby('Department')['Salary(LPA)'].mean()"
   ]
  },
  {
   "cell_type": "markdown",
   "id": "a157e9a2-3137-4905-993a-57e9f944075c",
   "metadata": {},
   "source": [
    "### 4.\tCompare performance by gender."
   ]
  },
  {
   "cell_type": "code",
   "execution_count": 19,
   "id": "d52379a8-bb25-464d-a638-8ab98d4ded36",
   "metadata": {},
   "outputs": [
    {
     "data": {
      "text/plain": [
       "Gender\n",
       "Female    1867.1\n",
       "Male      1900.7\n",
       "Name: Performance_Score, dtype: float64"
      ]
     },
     "execution_count": 19,
     "metadata": {},
     "output_type": "execute_result"
    }
   ],
   "source": [
    "dataset.groupby('Gender')['Performance_Score'].sum()"
   ]
  },
  {
   "cell_type": "markdown",
   "id": "25a77582-bfc9-4e64-a52b-d661041b3659",
   "metadata": {},
   "source": [
    "### 5.\tFind correlation between Attendance, Feedback, Trainings, Salary, and Performance."
   ]
  },
  {
   "cell_type": "code",
   "execution_count": 25,
   "id": "31c7b61b-c423-45dc-8a52-6b135daeb8fa",
   "metadata": {},
   "outputs": [
    {
     "data": {
      "text/html": [
       "<div>\n",
       "<style scoped>\n",
       "    .dataframe tbody tr th:only-of-type {\n",
       "        vertical-align: middle;\n",
       "    }\n",
       "\n",
       "    .dataframe tbody tr th {\n",
       "        vertical-align: top;\n",
       "    }\n",
       "\n",
       "    .dataframe thead th {\n",
       "        text-align: right;\n",
       "    }\n",
       "</style>\n",
       "<table border=\"1\" class=\"dataframe\">\n",
       "  <thead>\n",
       "    <tr style=\"text-align: right;\">\n",
       "      <th></th>\n",
       "      <th>Age</th>\n",
       "      <th>Years_at_Company</th>\n",
       "      <th>Goals_Achieved</th>\n",
       "      <th>Projects_Completed</th>\n",
       "      <th>Trainings_Attended</th>\n",
       "      <th>Attendance_%</th>\n",
       "      <th>Customer_Feedback</th>\n",
       "      <th>Salary(LPA)</th>\n",
       "      <th>Performance_Score</th>\n",
       "    </tr>\n",
       "  </thead>\n",
       "  <tbody>\n",
       "    <tr>\n",
       "      <th>Age</th>\n",
       "      <td>1.000000</td>\n",
       "      <td>0.038936</td>\n",
       "      <td>-0.062953</td>\n",
       "      <td>-0.112671</td>\n",
       "      <td>0.020410</td>\n",
       "      <td>0.027007</td>\n",
       "      <td>0.046645</td>\n",
       "      <td>0.019041</td>\n",
       "      <td>-0.092848</td>\n",
       "    </tr>\n",
       "    <tr>\n",
       "      <th>Years_at_Company</th>\n",
       "      <td>0.038936</td>\n",
       "      <td>1.000000</td>\n",
       "      <td>-0.025477</td>\n",
       "      <td>-0.092777</td>\n",
       "      <td>-0.050672</td>\n",
       "      <td>0.051353</td>\n",
       "      <td>-0.000186</td>\n",
       "      <td>-0.001049</td>\n",
       "      <td>-0.070343</td>\n",
       "    </tr>\n",
       "    <tr>\n",
       "      <th>Goals_Achieved</th>\n",
       "      <td>-0.062953</td>\n",
       "      <td>-0.025477</td>\n",
       "      <td>1.000000</td>\n",
       "      <td>0.013967</td>\n",
       "      <td>0.006895</td>\n",
       "      <td>-0.009870</td>\n",
       "      <td>-0.031071</td>\n",
       "      <td>0.027668</td>\n",
       "      <td>0.875050</td>\n",
       "    </tr>\n",
       "    <tr>\n",
       "      <th>Projects_Completed</th>\n",
       "      <td>-0.112671</td>\n",
       "      <td>-0.092777</td>\n",
       "      <td>0.013967</td>\n",
       "      <td>1.000000</td>\n",
       "      <td>-0.005089</td>\n",
       "      <td>-0.069312</td>\n",
       "      <td>0.072286</td>\n",
       "      <td>-0.079546</td>\n",
       "      <td>0.446241</td>\n",
       "    </tr>\n",
       "    <tr>\n",
       "      <th>Trainings_Attended</th>\n",
       "      <td>0.020410</td>\n",
       "      <td>-0.050672</td>\n",
       "      <td>0.006895</td>\n",
       "      <td>-0.005089</td>\n",
       "      <td>1.000000</td>\n",
       "      <td>0.084055</td>\n",
       "      <td>-0.051029</td>\n",
       "      <td>0.003626</td>\n",
       "      <td>0.167928</td>\n",
       "    </tr>\n",
       "    <tr>\n",
       "      <th>Attendance_%</th>\n",
       "      <td>0.027007</td>\n",
       "      <td>0.051353</td>\n",
       "      <td>-0.009870</td>\n",
       "      <td>-0.069312</td>\n",
       "      <td>0.084055</td>\n",
       "      <td>1.000000</td>\n",
       "      <td>0.026001</td>\n",
       "      <td>-0.028859</td>\n",
       "      <td>-0.020084</td>\n",
       "    </tr>\n",
       "    <tr>\n",
       "      <th>Customer_Feedback</th>\n",
       "      <td>0.046645</td>\n",
       "      <td>-0.000186</td>\n",
       "      <td>-0.031071</td>\n",
       "      <td>0.072286</td>\n",
       "      <td>-0.051029</td>\n",
       "      <td>0.026001</td>\n",
       "      <td>1.000000</td>\n",
       "      <td>0.033866</td>\n",
       "      <td>0.133088</td>\n",
       "    </tr>\n",
       "    <tr>\n",
       "      <th>Salary(LPA)</th>\n",
       "      <td>0.019041</td>\n",
       "      <td>-0.001049</td>\n",
       "      <td>0.027668</td>\n",
       "      <td>-0.079546</td>\n",
       "      <td>0.003626</td>\n",
       "      <td>-0.028859</td>\n",
       "      <td>0.033866</td>\n",
       "      <td>1.000000</td>\n",
       "      <td>-0.004368</td>\n",
       "    </tr>\n",
       "    <tr>\n",
       "      <th>Performance_Score</th>\n",
       "      <td>-0.092848</td>\n",
       "      <td>-0.070343</td>\n",
       "      <td>0.875050</td>\n",
       "      <td>0.446241</td>\n",
       "      <td>0.167928</td>\n",
       "      <td>-0.020084</td>\n",
       "      <td>0.133088</td>\n",
       "      <td>-0.004368</td>\n",
       "      <td>1.000000</td>\n",
       "    </tr>\n",
       "  </tbody>\n",
       "</table>\n",
       "</div>"
      ],
      "text/plain": [
       "                         Age  Years_at_Company  Goals_Achieved  \\\n",
       "Age                 1.000000          0.038936       -0.062953   \n",
       "Years_at_Company    0.038936          1.000000       -0.025477   \n",
       "Goals_Achieved     -0.062953         -0.025477        1.000000   \n",
       "Projects_Completed -0.112671         -0.092777        0.013967   \n",
       "Trainings_Attended  0.020410         -0.050672        0.006895   \n",
       "Attendance_%        0.027007          0.051353       -0.009870   \n",
       "Customer_Feedback   0.046645         -0.000186       -0.031071   \n",
       "Salary(LPA)         0.019041         -0.001049        0.027668   \n",
       "Performance_Score  -0.092848         -0.070343        0.875050   \n",
       "\n",
       "                    Projects_Completed  Trainings_Attended  Attendance_%  \\\n",
       "Age                          -0.112671            0.020410      0.027007   \n",
       "Years_at_Company             -0.092777           -0.050672      0.051353   \n",
       "Goals_Achieved                0.013967            0.006895     -0.009870   \n",
       "Projects_Completed            1.000000           -0.005089     -0.069312   \n",
       "Trainings_Attended           -0.005089            1.000000      0.084055   \n",
       "Attendance_%                 -0.069312            0.084055      1.000000   \n",
       "Customer_Feedback             0.072286           -0.051029      0.026001   \n",
       "Salary(LPA)                  -0.079546            0.003626     -0.028859   \n",
       "Performance_Score             0.446241            0.167928     -0.020084   \n",
       "\n",
       "                    Customer_Feedback  Salary(LPA)  Performance_Score  \n",
       "Age                          0.046645     0.019041          -0.092848  \n",
       "Years_at_Company            -0.000186    -0.001049          -0.070343  \n",
       "Goals_Achieved              -0.031071     0.027668           0.875050  \n",
       "Projects_Completed           0.072286    -0.079546           0.446241  \n",
       "Trainings_Attended          -0.051029     0.003626           0.167928  \n",
       "Attendance_%                 0.026001    -0.028859          -0.020084  \n",
       "Customer_Feedback            1.000000     0.033866           0.133088  \n",
       "Salary(LPA)                  0.033866     1.000000          -0.004368  \n",
       "Performance_Score            0.133088    -0.004368           1.000000  "
      ]
     },
     "execution_count": 25,
     "metadata": {},
     "output_type": "execute_result"
    }
   ],
   "source": [
    "dataset.corr(numeric_only=True)"
   ]
  },
  {
   "cell_type": "markdown",
   "id": "5906b5d4-c032-420c-8439-2e7cef23e66d",
   "metadata": {},
   "source": [
    "## Part C: Visualization (Matplotlib + Seaborn)\n",
    "### 1.\tBar chart → Department-wise average performance.\n"
   ]
  },
  {
   "cell_type": "code",
   "execution_count": 34,
   "id": "964e2062-1d0a-4906-8306-549f7404d1a0",
   "metadata": {},
   "outputs": [
    {
     "data": {
      "text/plain": [
       "<BarContainer object of 5 artists>"
      ]
     },
     "execution_count": 34,
     "metadata": {},
     "output_type": "execute_result"
    },
    {
     "data": {
      "image/png": "[encoded data removed]",
      "text/plain": [
       "<Figure size 640x480 with 1 Axes>"
      ]
     },
     "metadata": {},
     "output_type": "display_data"
    }
   ],
   "source": [
    "types = dataset.groupby('Department')['Performance_Score'].mean().index\n",
    "values = dataset.groupby('Department')['Performance_Score'].mean().values\n",
    "plt.bar(types,values)"
   ]
  },
  {
   "cell_type": "markdown",
   "id": "a820ca58-5013-4424-b3f7-05cebf22e449",
   "metadata": {},
   "source": [
    "### 2.\tBoxplot → Salary distribution by department."
   ]
  },
  {
   "cell_type": "code",
   "execution_count": 37,
   "id": "0d257a84-f536-4148-9607-0c77627e6346",
   "metadata": {},
   "outputs": [
    {
     "data": {
      "text/plain": [
       "{'whiskers': [<matplotlib.lines.Line2D at 0x1e855fe8050>,\n",
       "  <matplotlib.lines.Line2D at 0x1e855fe8190>],\n",
       " 'caps': [<matplotlib.lines.Line2D at 0x1e855fe82d0>,\n",
       "  <matplotlib.lines.Line2D at 0x1e855fe8410>],\n",
       " 'boxes': [<matplotlib.lines.Line2D at 0x1e855fabed0>],\n",
       " 'medians': [<matplotlib.lines.Line2D at 0x1e855fe8550>],\n",
       " 'fliers': [<matplotlib.lines.Line2D at 0x1e855fe8690>],\n",
       " 'means': []}"
      ]
     },
     "execution_count": 37,
     "metadata": {},
     "output_type": "execute_result"
    },
    {
     "data": {
      "image/png": "[encoded data removed]",
      "text/plain": [
       "<Figure size 640x480 with 1 Axes>"
      ]
     },
     "metadata": {},
     "output_type": "display_data"
    }
   ],
   "source": [
    "plt.boxplot(dataset['Salary(LPA)'])"
   ]
  },
  {
   "cell_type": "markdown",
   "id": "1229467f-40fc-42bd-ba79-2a85e2faff08",
   "metadata": {},
   "source": [
    "### 3.\tHistogram → Age distribution of employees."
   ]
  },
  {
   "cell_type": "code",
   "execution_count": 38,
   "id": "4a0a80d1-8a42-4e25-b13b-86921d4098d8",
   "metadata": {},
   "outputs": [
    {
     "data": {
      "text/plain": [
       "<Axes: xlabel='Age', ylabel='Count'>"
      ]
     },
     "execution_count": 38,
     "metadata": {},
     "output_type": "execute_result"
    },
    {
     "data": {
      "image/png": "[encoded data removed]",
      "text/plain": [
       "<Figure size 640x480 with 1 Axes>"
      ]
     },
     "metadata": {},
     "output_type": "display_data"
    }
   ],
   "source": [
    "sns.histplot(dataset['Age'])"
   ]
  },
  {
   "cell_type": "markdown",
   "id": "49447ac0-675b-424d-b95d-e94880f79a26",
   "metadata": {},
   "source": [
    "### 4.\tHeatmap → Correlation matrix."
   ]
  },
  {
   "cell_type": "code",
   "execution_count": 40,
   "id": "e9116ecc-ab59-4b22-ab98-99d79ce9c718",
   "metadata": {},
   "outputs": [
    {
     "data": {
      "text/plain": [
       "<Axes: >"
      ]
     },
     "execution_count": 40,
     "metadata": {},
     "output_type": "execute_result"
    },
    {
     "data": {
      "image/png": "[encoded data removed]",
      "text/plain": [
       "<Figure size 640x480 with 2 Axes>"
      ]
     },
     "metadata": {},
     "output_type": "display_data"
    }
   ],
   "source": [
    "sns.heatmap(dataset.corr(numeric_only=True),annot=True)"
   ]
  },
  {
   "cell_type": "markdown",
   "id": "1eba56b8-3b42-40ac-9fac-f305f7ee25eb",
   "metadata": {},
   "source": [
    "### 5.\tScatter plot → Salary vs Performance_Score."
   ]
  },
  {
   "cell_type": "code",
   "execution_count": 41,
   "id": "b8cbc171-c972-4897-ab57-4345980d3fda",
   "metadata": {},
   "outputs": [
    {
     "data": {
      "text/plain": [
       "<Axes: xlabel='Salary(LPA)', ylabel='Performance_Score'>"
      ]
     },
     "execution_count": 41,
     "metadata": {},
     "output_type": "execute_result"
    },
    {
     "data": {
      "image/png": "[encoded data removed]",
      "text/plain": [
       "<Figure size 640x480 with 1 Axes>"
      ]
     },
     "metadata": {},
     "output_type": "display_data"
    }
   ],
   "source": [
    "sns.scatterplot(x='Salary(LPA)',y='Performance_Score',data=dataset)"
   ]
  },
  {
   "cell_type": "code",
   "execution_count": null,
   "id": "1d9e5003-a23d-4cd2-a1e5-0137d705e3c9",
   "metadata": {},
   "outputs": [],
   "source": []
  }
 ],
 "metadata": {
  "kernelspec": {
   "display_name": "Python 3 (ipykernel)",
   "language": "python",
   "name": "python3"
  },
  "language_info": {
   "codemirror_mode": {
    "name": "ipython",
    "version": 3
   },
   "file_extension": ".py",
   "mimetype": "text/x-python",
   "name": "python",
   "nbconvert_exporter": "python",
   "pygments_lexer": "ipython3",
   "version": "3.13.3"
  }
 },
 "nbformat": 4,
 "nbformat_minor": 5
}
