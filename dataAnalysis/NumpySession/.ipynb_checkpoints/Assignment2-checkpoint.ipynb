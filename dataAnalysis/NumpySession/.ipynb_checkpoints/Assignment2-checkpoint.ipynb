{
 "cells": [
  {
   "cell_type": "code",
   "execution_count": 2,
   "id": "3ae8dc79-35f7-4fd6-adf4-93f0175c5e49",
   "metadata": {},
   "outputs": [],
   "source": [
    "import numpy as np"
   ]
  },
  {
   "cell_type": "markdown",
   "id": "8745381d-dc52-42e1-b4bb-68625b534dfa",
   "metadata": {},
   "source": [
    "### 1. Create a NumPy array containing integers from 0 to 9."
   ]
  },
  {
   "cell_type": "code",
   "execution_count": 3,
   "id": "81643dda-ebdf-49e0-8d7e-b183c52d5794",
   "metadata": {},
   "outputs": [
    {
     "data": {
      "text/plain": [
       "array([0, 1, 2, 3, 4, 5, 6, 7, 8, 9])"
      ]
     },
     "execution_count": 3,
     "metadata": {},
     "output_type": "execute_result"
    }
   ],
   "source": [
    "arr1 = np.arange(0,10)\n",
    "arr1"
   ]
  },
  {
   "cell_type": "markdown",
   "id": "c17aaec3-4f22-4513-b7cf-9603fde56b9f",
   "metadata": {},
   "source": [
    "### 2. Create a NumPy array from a given Python list [10, 20, 30, 40, 50]."
   ]
  },
  {
   "cell_type": "code",
   "execution_count": 5,
   "id": "6f5bb1af-d5e5-450f-871c-1ca6d57510e6",
   "metadata": {},
   "outputs": [
    {
     "data": {
      "text/plain": [
       "array([10, 20, 30, 40, 50])"
      ]
     },
     "execution_count": 5,
     "metadata": {},
     "output_type": "execute_result"
    }
   ],
   "source": [
    "arr2 = np.array([10,20,30,40,50])\n",
    "arr2"
   ]
  },
  {
   "cell_type": "markdown",
   "id": "63489a5f-f839-4303-a821-2efe968c3ff6",
   "metadata": {},
   "source": [
    "### 3. Create a 2D array (3x3) with values ranging from 0 to 8."
   ]
  },
  {
   "cell_type": "code",
   "execution_count": 9,
   "id": "70748a23-e793-47d4-a296-d39352e3a5d8",
   "metadata": {},
   "outputs": [
    {
     "data": {
      "text/plain": [
       "array([[0, 1, 2],\n",
       "       [3, 4, 5],\n",
       "       [6, 7, 8]])"
      ]
     },
     "execution_count": 9,
     "metadata": {},
     "output_type": "execute_result"
    }
   ],
   "source": [
    "arr3 = np.arange(0,9).reshape(3,3)\n",
    "arr3"
   ]
  },
  {
   "cell_type": "markdown",
   "id": "95626c66-b702-4de8-aa0c-6ccb6512f9bf",
   "metadata": {},
   "source": [
    "### 4. Given a 2D array, find its shape and size. Create a 5x4 array with random integers between"
   ]
  },
  {
   "cell_type": "code",
   "execution_count": 13,
   "id": "4601bac0-5719-4baf-992b-77b567fd70cb",
   "metadata": {},
   "outputs": [
    {
     "data": {
      "text/plain": [
       "array([[ 2,  1, 37, 32],\n",
       "       [ 8, 19, 39, 38],\n",
       "       [33,  7,  8, 43],\n",
       "       [ 6, 24,  8,  1],\n",
       "       [14, 45, 37,  5]], dtype=int32)"
      ]
     },
     "execution_count": 13,
     "metadata": {},
     "output_type": "execute_result"
    }
   ],
   "source": [
    "arr4 = np.random.randint(1,50,(5,4))\n",
    "arr4\n"
   ]
  },
  {
   "cell_type": "code",
   "execution_count": 14,
   "id": "624c5921-7945-4ec3-8e41-827e360c209a",
   "metadata": {},
   "outputs": [
    {
     "data": {
      "text/plain": [
       "(5, 4)"
      ]
     },
     "execution_count": 14,
     "metadata": {},
     "output_type": "execute_result"
    }
   ],
   "source": [
    "arr4.shape"
   ]
  },
  {
   "cell_type": "code",
   "execution_count": 15,
   "id": "e882fcd1-ddcd-45ec-8a05-e7e7e6e2fed6",
   "metadata": {},
   "outputs": [
    {
     "data": {
      "text/plain": [
       "20"
      ]
     },
     "execution_count": 15,
     "metadata": {},
     "output_type": "execute_result"
    }
   ],
   "source": [
    "arr4.size"
   ]
  },
  {
   "cell_type": "markdown",
   "id": "1e9369bf-759f-447b-8668-e8695d3e8483",
   "metadata": {},
   "source": [
    "### 5. Create a 3x3 array of integers and access:\n",
    "#### a. The second element of the first row."
   ]
  },
  {
   "cell_type": "code",
   "execution_count": 16,
   "id": "5133873b-1882-42f5-864a-cb41dc6fd20a",
   "metadata": {},
   "outputs": [
    {
     "data": {
      "text/plain": [
       "array([[14, 36,  2],\n",
       "       [44, 26, 35],\n",
       "       [34, 13, 14]], dtype=int32)"
      ]
     },
     "execution_count": 16,
     "metadata": {},
     "output_type": "execute_result"
    }
   ],
   "source": [
    "arr5 = np.random.randint(1,50,(3,3))\n",
    "arr5"
   ]
  },
  {
   "cell_type": "code",
   "execution_count": 18,
   "id": "b764ccd6-977a-48e5-9d0b-7df4dff1be99",
   "metadata": {},
   "outputs": [
    {
     "data": {
      "text/plain": [
       "array([36], dtype=int32)"
      ]
     },
     "execution_count": 18,
     "metadata": {},
     "output_type": "execute_result"
    }
   ],
   "source": [
    "arr5[:1,1]"
   ]
  },
  {
   "cell_type": "markdown",
   "id": "ae2811c3-6c35-4df9-88c5-29977fe298a0",
   "metadata": {},
   "source": [
    "#### b. The third column of the 2nd row."
   ]
  },
  {
   "cell_type": "code",
   "execution_count": 20,
   "id": "ad4c7a0c-e874-4b2f-b9cf-bdb64d2c7929",
   "metadata": {},
   "outputs": [
    {
     "data": {
      "text/plain": [
       "np.int32(35)"
      ]
     },
     "execution_count": 20,
     "metadata": {},
     "output_type": "execute_result"
    }
   ],
   "source": [
    "arr5[1,2]"
   ]
  },
  {
   "cell_type": "markdown",
   "id": "0742f70c-b3db-4e66-adcb-d8710704d49d",
   "metadata": {},
   "source": [
    "#### c. A subarray with the first two rows and last two columns."
   ]
  },
  {
   "cell_type": "code",
   "execution_count": 21,
   "id": "092c70ae-b00a-4433-a574-b3c15c598822",
   "metadata": {},
   "outputs": [
    {
     "data": {
      "text/plain": [
       "array([[36,  2],\n",
       "       [26, 35]], dtype=int32)"
      ]
     },
     "execution_count": 21,
     "metadata": {},
     "output_type": "execute_result"
    }
   ],
   "source": [
    "arr5[:2,1:]"
   ]
  },
  {
   "cell_type": "markdown",
   "id": "17d9ba09-7397-49b5-b4f9-d53262967339",
   "metadata": {},
   "source": [
    "### 6. Create a 1D array of 12 elements. Reshape it into a 3x4 2D array."
   ]
  },
  {
   "cell_type": "code",
   "execution_count": 23,
   "id": "5c18f7c0-a95c-4b47-88c4-ba82efea87a1",
   "metadata": {},
   "outputs": [
    {
     "data": {
      "text/plain": [
       "array([ 1,  2,  3,  4,  5,  6,  7,  8,  9, 10, 11, 12])"
      ]
     },
     "execution_count": 23,
     "metadata": {},
     "output_type": "execute_result"
    }
   ],
   "source": [
    "arr6 = np.arange(1,13)\n",
    "arr6"
   ]
  },
  {
   "cell_type": "code",
   "execution_count": 25,
   "id": "f8fcd646-6995-4958-add9-d6e2c4c0a57c",
   "metadata": {},
   "outputs": [
    {
     "data": {
      "text/plain": [
       "array([[ 1,  2,  3,  4],\n",
       "       [ 5,  6,  7,  8],\n",
       "       [ 9, 10, 11, 12]])"
      ]
     },
     "execution_count": 25,
     "metadata": {},
     "output_type": "execute_result"
    }
   ],
   "source": [
    "a=arr6.reshape(3,4)\n",
    "a"
   ]
  },
  {
   "cell_type": "markdown",
   "id": "ed074158-47a4-40a0-920a-05bb3e468b01",
   "metadata": {},
   "source": [
    "### 7. Reshape a 3x3 matrix into a 1D array."
   ]
  },
  {
   "cell_type": "code",
   "execution_count": 36,
   "id": "22790c22-0839-49c0-bf0a-1a4a514bd491",
   "metadata": {},
   "outputs": [
    {
     "data": {
      "text/plain": [
       "array([[16, 31, 18],\n",
       "       [18, 39, 43],\n",
       "       [28, 16, 30]], dtype=int32)"
      ]
     },
     "execution_count": 36,
     "metadata": {},
     "output_type": "execute_result"
    }
   ],
   "source": [
    "arr7 = np.random.randint(1,50,(3,3))\n",
    "arr7"
   ]
  },
  {
   "cell_type": "code",
   "execution_count": 37,
   "id": "b9a29ce4-672c-43a1-8f61-1979adbd8192",
   "metadata": {},
   "outputs": [
    {
     "data": {
      "text/plain": [
       "array([16, 31, 18, 18, 39, 43, 28, 16, 30], dtype=int32)"
      ]
     },
     "execution_count": 37,
     "metadata": {},
     "output_type": "execute_result"
    }
   ],
   "source": [
    "b = arr7.reshape(-1)\n",
    "b"
   ]
  },
  {
   "cell_type": "markdown",
   "id": "5b05fc04-990a-4b0f-bcfb-ff9247fa716f",
   "metadata": {},
   "source": [
    "### 8. Create two arrays of shape (2, 3): arr1 and arr2. Perform element-wise addition,\n",
    "### subtraction, multiplication, and division on them."
   ]
  },
  {
   "cell_type": "code",
   "execution_count": 39,
   "id": "6cb7829b-cacb-48cc-9725-8bc190b89d4e",
   "metadata": {},
   "outputs": [
    {
     "data": {
      "text/plain": [
       "array([[ 8,  8,  9],\n",
       "       [11,  2,  3]], dtype=int32)"
      ]
     },
     "execution_count": 39,
     "metadata": {},
     "output_type": "execute_result"
    }
   ],
   "source": [
    "a = np.random.randint(1,12,(2,3))\n",
    "b = np.random.randint(20,40,(2,3))\n",
    "a"
   ]
  },
  {
   "cell_type": "code",
   "execution_count": 40,
   "id": "052b85b1-678f-4f18-a2fe-e0a69aac3550",
   "metadata": {},
   "outputs": [
    {
     "data": {
      "text/plain": [
       "array([[37, 24, 38],\n",
       "       [20, 25, 36]], dtype=int32)"
      ]
     },
     "execution_count": 40,
     "metadata": {},
     "output_type": "execute_result"
    }
   ],
   "source": [
    "b"
   ]
  },
  {
   "cell_type": "code",
   "execution_count": 41,
   "id": "ac40e960-6de2-48ac-a7a2-96bde02111f3",
   "metadata": {},
   "outputs": [
    {
     "data": {
      "text/plain": [
       "array([[45, 32, 47],\n",
       "       [31, 27, 39]], dtype=int32)"
      ]
     },
     "execution_count": 41,
     "metadata": {},
     "output_type": "execute_result"
    }
   ],
   "source": [
    "a+b"
   ]
  },
  {
   "cell_type": "code",
   "execution_count": 42,
   "id": "e46b3e94-dbb0-48c8-9b36-39d75c545273",
   "metadata": {},
   "outputs": [
    {
     "data": {
      "text/plain": [
       "array([[29, 16, 29],\n",
       "       [ 9, 23, 33]], dtype=int32)"
      ]
     },
     "execution_count": 42,
     "metadata": {},
     "output_type": "execute_result"
    }
   ],
   "source": [
    "b-a"
   ]
  },
  {
   "cell_type": "code",
   "execution_count": 43,
   "id": "7096a4e9-9b9d-4d11-b9d2-1c36b8e17d62",
   "metadata": {},
   "outputs": [
    {
     "data": {
      "text/plain": [
       "array([[296, 192, 342],\n",
       "       [220,  50, 108]], dtype=int32)"
      ]
     },
     "execution_count": 43,
     "metadata": {},
     "output_type": "execute_result"
    }
   ],
   "source": [
    "a*b"
   ]
  },
  {
   "cell_type": "code",
   "execution_count": 44,
   "id": "5b06c3c2-29a9-4efa-b9c3-bdb6b7566370",
   "metadata": {},
   "outputs": [
    {
     "data": {
      "text/plain": [
       "array([[ 4.625     ,  3.        ,  4.22222222],\n",
       "       [ 1.81818182, 12.5       , 12.        ]])"
      ]
     },
     "execution_count": 44,
     "metadata": {},
     "output_type": "execute_result"
    }
   ],
   "source": [
    "b/a"
   ]
  },
  {
   "cell_type": "markdown",
   "id": "9d8053d0-e7d4-4e29-9f25-2b89c838c1e9",
   "metadata": {},
   "source": [
    "### 9. Use NumPy's built-in functions to compute the sum, mean, and standard deviation of a\n",
    "### given array."
   ]
  },
  {
   "cell_type": "code",
   "execution_count": 45,
   "id": "2a874848-eda8-4e3a-9a17-82ed9c433066",
   "metadata": {},
   "outputs": [
    {
     "data": {
      "text/plain": [
       "array([[ 4,  8,  3],\n",
       "       [ 3,  6, 10]], dtype=int32)"
      ]
     },
     "execution_count": 45,
     "metadata": {},
     "output_type": "execute_result"
    }
   ],
   "source": [
    "arr9 = np.random.randint(1,12,(2,3))\n",
    "arr9"
   ]
  },
  {
   "cell_type": "code",
   "execution_count": 46,
   "id": "b87bb269-ca97-47f4-8591-964c4733d429",
   "metadata": {},
   "outputs": [
    {
     "data": {
      "text/plain": [
       "np.int64(34)"
      ]
     },
     "execution_count": 46,
     "metadata": {},
     "output_type": "execute_result"
    }
   ],
   "source": [
    "arr9.sum()"
   ]
  },
  {
   "cell_type": "code",
   "execution_count": 47,
   "id": "d2d7ae4f-2d31-4095-a63a-e74457e3d6d7",
   "metadata": {},
   "outputs": [
    {
     "data": {
      "text/plain": [
       "np.float64(5.666666666666667)"
      ]
     },
     "execution_count": 47,
     "metadata": {},
     "output_type": "execute_result"
    }
   ],
   "source": [
    "arr9.mean()"
   ]
  },
  {
   "cell_type": "code",
   "execution_count": 49,
   "id": "8f499238-78f2-4495-810a-21f29d4f9be8",
   "metadata": {},
   "outputs": [
    {
     "data": {
      "text/plain": [
       "np.float64(2.6246692913372702)"
      ]
     },
     "execution_count": 49,
     "metadata": {},
     "output_type": "execute_result"
    }
   ],
   "source": [
    "a = np.std(arr9)\n",
    "a"
   ]
  },
  {
   "cell_type": "markdown",
   "id": "0c133c83-03b1-4691-8cb7-0929e4a33338",
   "metadata": {},
   "source": [
    "### 10. Create a 2x2 matrix A and a 2x2 matrix B. Perform matrix multiplication using np.dot() or\n",
    "### the @ operator."
   ]
  },
  {
   "cell_type": "code",
   "execution_count": 50,
   "id": "c46b7767-358e-4b80-9896-ff4ac86fa9fb",
   "metadata": {},
   "outputs": [],
   "source": [
    "a = np.random.randint(1,12,(2,2))\n",
    "b = np.random.randint(20,40,(2,2))"
   ]
  },
  {
   "cell_type": "code",
   "execution_count": 51,
   "id": "641608c1-a24d-46eb-8649-8fbc822f4c9a",
   "metadata": {},
   "outputs": [
    {
     "data": {
      "text/plain": [
       "array([[ 5, 11],\n",
       "       [ 7,  6]], dtype=int32)"
      ]
     },
     "execution_count": 51,
     "metadata": {},
     "output_type": "execute_result"
    }
   ],
   "source": [
    "a"
   ]
  },
  {
   "cell_type": "code",
   "execution_count": 52,
   "id": "32b47e12-c630-4bcd-832c-ea6d9881fa99",
   "metadata": {},
   "outputs": [
    {
     "data": {
      "text/plain": [
       "array([[37, 35],\n",
       "       [25, 27]], dtype=int32)"
      ]
     },
     "execution_count": 52,
     "metadata": {},
     "output_type": "execute_result"
    }
   ],
   "source": [
    "b"
   ]
  },
  {
   "cell_type": "code",
   "execution_count": 53,
   "id": "76901076-d865-45af-9335-a91b86f48554",
   "metadata": {},
   "outputs": [
    {
     "data": {
      "text/plain": [
       "array([[460, 472],\n",
       "       [409, 407]], dtype=int32)"
      ]
     },
     "execution_count": 53,
     "metadata": {},
     "output_type": "execute_result"
    }
   ],
   "source": [
    "np.dot(a,b)"
   ]
  },
  {
   "cell_type": "code",
   "execution_count": 54,
   "id": "6e1aa076-866b-4264-959a-63a56e2b6577",
   "metadata": {},
   "outputs": [
    {
     "data": {
      "text/plain": [
       "array([[460, 472],\n",
       "       [409, 407]], dtype=int32)"
      ]
     },
     "execution_count": 54,
     "metadata": {},
     "output_type": "execute_result"
    }
   ],
   "source": [
    "a @ b"
   ]
  },
  {
   "cell_type": "markdown",
   "id": "cfc983c3-4142-475a-bfb4-37e465f692cb",
   "metadata": {},
   "source": [
    "### 11. Find the transpose of matrix A and matrix B."
   ]
  },
  {
   "cell_type": "code",
   "execution_count": 56,
   "id": "83338d10-45ea-4e3c-a2ea-fe02ecf07e4d",
   "metadata": {},
   "outputs": [
    {
     "data": {
      "text/plain": [
       "array([[ 5,  7],\n",
       "       [11,  6]], dtype=int32)"
      ]
     },
     "execution_count": 56,
     "metadata": {},
     "output_type": "execute_result"
    }
   ],
   "source": [
    "np.transpose(a)"
   ]
  },
  {
   "cell_type": "code",
   "execution_count": 57,
   "id": "5c16db56-f578-4bf0-a9d9-4fa913d9ba12",
   "metadata": {},
   "outputs": [
    {
     "data": {
      "text/plain": [
       "array([[37, 25],\n",
       "       [35, 27]], dtype=int32)"
      ]
     },
     "execution_count": 57,
     "metadata": {},
     "output_type": "execute_result"
    }
   ],
   "source": [
    "np.transpose(b)"
   ]
  },
  {
   "cell_type": "markdown",
   "id": "16722e3d-c939-4181-ba10-485b7ed7c542",
   "metadata": {},
   "source": [
    "### 12. Create a 3x3 array and a 1D array with 3 elements. Add the 1D array to the 2D array.\n",
    "### Explain how broadcasting works in this operation."
   ]
  },
  {
   "cell_type": "code",
   "execution_count": null,
   "id": "bae63541-0b98-4e61-a74d-047fe21f6eaf",
   "metadata": {},
   "outputs": [],
   "source": []
  },
  {
   "cell_type": "markdown",
   "id": "fbdd8aed-a315-4dbb-8206-3a866b4272c1",
   "metadata": {},
   "source": [
    "### 13. Create a 4x4 array of random integers. Find the maximum, minimum, and mean of the\n",
    "### entire array."
   ]
  },
  {
   "cell_type": "code",
   "execution_count": 58,
   "id": "8f3e4100-2e2f-47bd-b46a-422359b4892e",
   "metadata": {},
   "outputs": [
    {
     "data": {
      "text/plain": [
       "array([[47,  2,  3, 14],\n",
       "       [43, 30, 36, 34],\n",
       "       [42, 48, 39, 31],\n",
       "       [29, 45, 16, 41]], dtype=int32)"
      ]
     },
     "execution_count": 58,
     "metadata": {},
     "output_type": "execute_result"
    }
   ],
   "source": [
    "a13 = np.random.randint(1,50,(4,4))\n",
    "a13"
   ]
  },
  {
   "cell_type": "code",
   "execution_count": 60,
   "id": "ddeec53c-f4f4-4b30-8639-820aa692da48",
   "metadata": {},
   "outputs": [
    {
     "data": {
      "text/plain": [
       "np.int32(48)"
      ]
     },
     "execution_count": 60,
     "metadata": {},
     "output_type": "execute_result"
    }
   ],
   "source": [
    "a13.max()"
   ]
  },
  {
   "cell_type": "code",
   "execution_count": 61,
   "id": "014d1d2f-3118-41be-9e86-33f374c291b4",
   "metadata": {},
   "outputs": [
    {
     "data": {
      "text/plain": [
       "np.int32(2)"
      ]
     },
     "execution_count": 61,
     "metadata": {},
     "output_type": "execute_result"
    }
   ],
   "source": [
    "a13.min()"
   ]
  },
  {
   "cell_type": "code",
   "execution_count": 62,
   "id": "5bf303d4-138b-46db-b0ae-30755154b471",
   "metadata": {},
   "outputs": [
    {
     "data": {
      "text/plain": [
       "np.float64(31.25)"
      ]
     },
     "execution_count": 62,
     "metadata": {},
     "output_type": "execute_result"
    }
   ],
   "source": [
    "a13.mean()"
   ]
  },
  {
   "cell_type": "markdown",
   "id": "c10f33d5-459f-4893-8788-b2c6bd93567b",
   "metadata": {},
   "source": [
    "### 14. Find the row-wise and column-wise sums."
   ]
  },
  {
   "cell_type": "code",
   "execution_count": 64,
   "id": "01391548-ef26-4e66-8658-e2252fe4ef1d",
   "metadata": {},
   "outputs": [
    {
     "data": {
      "text/plain": [
       "array([[12, 13,  5],\n",
       "       [18, 11,  1],\n",
       "       [ 3,  7, 17]], dtype=int32)"
      ]
     },
     "execution_count": 64,
     "metadata": {},
     "output_type": "execute_result"
    }
   ],
   "source": [
    "a14 = np.random.randint(1,20,(3,3))\n",
    "a14"
   ]
  },
  {
   "cell_type": "code",
   "execution_count": 67,
   "id": "14852cbd-9f74-473f-9136-5075da227a4f",
   "metadata": {},
   "outputs": [
    {
     "data": {
      "text/plain": [
       "array([33, 31, 23])"
      ]
     },
     "execution_count": 67,
     "metadata": {},
     "output_type": "execute_result"
    }
   ],
   "source": [
    "np.sum(a14,axis=0)  # column wise sum"
   ]
  },
  {
   "cell_type": "code",
   "execution_count": 69,
   "id": "a5b7afbc-c0d4-4f5c-80ea-5a981e910793",
   "metadata": {},
   "outputs": [
    {
     "data": {
      "text/plain": [
       "array([30, 30, 27])"
      ]
     },
     "execution_count": 69,
     "metadata": {},
     "output_type": "execute_result"
    }
   ],
   "source": [
    "np.sum(a14,axis=1)   #row wise sum"
   ]
  },
  {
   "cell_type": "markdown",
   "id": "64fbdf8e-3d62-47dd-82e4-cd4d67635831",
   "metadata": {},
   "source": [
    "### 15. Generate an array of 10 random integers between 1 and 50."
   ]
  },
  {
   "cell_type": "code",
   "execution_count": 70,
   "id": "d69899fa-6605-4c52-a6b4-b4b5f6caf0bd",
   "metadata": {},
   "outputs": [
    {
     "data": {
      "text/plain": [
       "array([18,  7, 21, 21, 39, 24, 28, 19, 32, 40], dtype=int32)"
      ]
     },
     "execution_count": 70,
     "metadata": {},
     "output_type": "execute_result"
    }
   ],
   "source": [
    "a15 = np.random.randint(1,50,(10,))\n",
    "a15"
   ]
  },
  {
   "cell_type": "code",
   "execution_count": 71,
   "id": "2384ca41-94a6-4097-8bff-f560ae58a581",
   "metadata": {},
   "outputs": [
    {
     "data": {
      "text/plain": [
       "10"
      ]
     },
     "execution_count": 71,
     "metadata": {},
     "output_type": "execute_result"
    }
   ],
   "source": [
    "a15.size"
   ]
  },
  {
   "cell_type": "markdown",
   "id": "7713700f-939e-4b08-9201-f97201e07902",
   "metadata": {},
   "source": [
    "### 16. Generate a 5x5 matrix of random floats between 0 and 1."
   ]
  },
  {
   "cell_type": "code",
   "execution_count": 74,
   "id": "d88c2b46-7fbc-4880-8e32-c09dcd3a9107",
   "metadata": {},
   "outputs": [
    {
     "data": {
      "text/plain": [
       "array([[0.98878997, 0.55457966, 0.5868858 , 0.80540741, 0.88464321],\n",
       "       [0.93728088, 0.24568249, 0.14842218, 0.11437037, 0.46475465],\n",
       "       [0.52733735, 0.32805285, 0.19577714, 0.63710811, 0.88395869],\n",
       "       [0.52339265, 0.24096847, 0.64898614, 0.10972428, 0.84455517],\n",
       "       [0.65376418, 0.89494027, 0.00635313, 0.00721045, 0.59824581]])"
      ]
     },
     "execution_count": 74,
     "metadata": {},
     "output_type": "execute_result"
    }
   ],
   "source": [
    "a16 = np.random.rand(25).reshape(5,5)\n",
    "a16"
   ]
  },
  {
   "cell_type": "code",
   "execution_count": null,
   "id": "40e49208-c306-4a4d-89cf-127e6a748e5e",
   "metadata": {},
   "outputs": [],
   "source": []
  }
 ],
 "metadata": {
  "kernelspec": {
   "display_name": "Python 3 (ipykernel)",
   "language": "python",
   "name": "python3"
  },
  "language_info": {
   "codemirror_mode": {
    "name": "ipython",
    "version": 3
   },
   "file_extension": ".py",
   "mimetype": "text/x-python",
   "name": "python",
   "nbconvert_exporter": "python",
   "pygments_lexer": "ipython3",
   "version": "3.13.3"
  }
 },
 "nbformat": 4,
 "nbformat_minor": 5
}
