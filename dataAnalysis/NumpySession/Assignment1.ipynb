{
 "cells": [
  {
   "cell_type": "code",
   "execution_count": 1,
   "id": "08a17d94-d8eb-4308-87b0-050b3f56426e",
   "metadata": {},
   "outputs": [],
   "source": [
    "import numpy as np"
   ]
  },
  {
   "cell_type": "markdown",
   "id": "f27aec44-50b7-4fe5-8bd3-e9e9223ec94b",
   "metadata": {},
   "source": [
    "### Write code to create a 4x3 matrix with values ranging from 2 to 13."
   ]
  },
  {
   "cell_type": "code",
   "execution_count": 48,
   "id": "17f82527-e434-4568-b864-1d0e225b345f",
   "metadata": {},
   "outputs": [
    {
     "data": {
      "text/plain": [
       "array([[ 2,  3,  4],\n",
       "       [ 5,  6,  7],\n",
       "       [ 8,  9, 10],\n",
       "       [11, 12, 13]])"
      ]
     },
     "execution_count": 48,
     "metadata": {},
     "output_type": "execute_result"
    }
   ],
   "source": [
    "arr = np.arange(2,14).reshape(4,3)\n",
    "arr"
   ]
  },
  {
   "cell_type": "markdown",
   "id": "7bceb7d2-e803-4a9f-883d-982615eb8818",
   "metadata": {},
   "source": [
    "### Write code to replace the odd numbers by -1 in the array created by using random.randint( 1 , 50,20) \n"
   ]
  },
  {
   "cell_type": "code",
   "execution_count": 50,
   "id": "4b788f49-95a9-4bd5-a40a-907ae4ae1d9b",
   "metadata": {},
   "outputs": [
    {
     "name": "stdout",
     "output_type": "stream",
     "text": [
      "[35  3 19 45 20 22  2 28 32  4 29  6 28  5 28 12 46 32 46 30]\n"
     ]
    },
    {
     "data": {
      "text/plain": [
       "array([-1, -1, -1, -1, 20, 22,  2, 28, 32,  4, -1,  6, 28, -1, 28, 12, 46,\n",
       "       32, 46, 30], dtype=int32)"
      ]
     },
     "execution_count": 50,
     "metadata": {},
     "output_type": "execute_result"
    }
   ],
   "source": [
    "arr1 = np.random.randint(1,50,20)\n",
    "print(arr1)\n",
    "arr1[arr1%2 != 0] = -1\n",
    "arr1"
   ]
  },
  {
   "cell_type": "markdown",
   "id": "8e00c9c1-703b-4d22-b7f5-2d46e041ae36",
   "metadata": {},
   "source": [
    "### Perform the following operations on an array of mobile phones prices 6999, 7500, 11999, 27899, 14999, 9999. \n",
    "#### a. Create a 1d-array of mobile phones prices "
   ]
  },
  {
   "cell_type": "code",
   "execution_count": 55,
   "id": "f988d169-1542-40d8-944a-2961c7c0c63a",
   "metadata": {},
   "outputs": [
    {
     "data": {
      "text/plain": [
       "1"
      ]
     },
     "execution_count": 55,
     "metadata": {},
     "output_type": "execute_result"
    }
   ],
   "source": [
    "arr2 = np.array([6999,7500,11999,27899,14999,9999])\n",
    "arr2\n",
    "arr2.ndim"
   ]
  },
  {
   "cell_type": "markdown",
   "id": "5723df1a-67ed-4da4-9d24-7a82bbb93415",
   "metadata": {},
   "source": [
    "#### b. Convert this array to float type "
   ]
  },
  {
   "cell_type": "code",
   "execution_count": 72,
   "id": "c27e1cd9-6f3b-4b74-a7d0-442c926dc2a3",
   "metadata": {},
   "outputs": [
    {
     "data": {
      "text/plain": [
       "dtype('float64')"
      ]
     },
     "execution_count": 72,
     "metadata": {},
     "output_type": "execute_result"
    }
   ],
   "source": [
    "arr4 = arr2.astype('float64')\n",
    "arr4.dtype"
   ]
  },
  {
   "cell_type": "markdown",
   "id": "97c387a8-fd7e-4654-b004-b0dea5665b51",
   "metadata": {},
   "source": [
    "#### c. Append a new mobile having price of 13999 Rs. to this array "
   ]
  },
  {
   "cell_type": "code",
   "execution_count": 57,
   "id": "008ac99d-4478-4596-ac0f-c99b53e3efe5",
   "metadata": {},
   "outputs": [
    {
     "data": {
      "text/plain": [
       "array([ 6999,  7500, 11999, 27899, 14999,  9999, 13999])"
      ]
     },
     "execution_count": 57,
     "metadata": {},
     "output_type": "execute_result"
    }
   ],
   "source": [
    "arr2 = np.append(arr2, 13999)\n",
    "arr2"
   ]
  },
  {
   "cell_type": "markdown",
   "id": "a1620f42-497f-4c23-9aad-9ff8eeba1388",
   "metadata": {},
   "source": [
    "#### d. Reverse this array of mobile phones prices "
   ]
  },
  {
   "cell_type": "code",
   "execution_count": 58,
   "id": "b2f6a5eb-b23e-4228-bb9d-0f86aeff2ef2",
   "metadata": {},
   "outputs": [
    {
     "data": {
      "text/plain": [
       "array([13999,  9999, 14999, 27899, 11999,  7500,  6999])"
      ]
     },
     "execution_count": 58,
     "metadata": {},
     "output_type": "execute_result"
    }
   ],
   "source": [
    "arr2[::-1]"
   ]
  },
  {
   "cell_type": "markdown",
   "id": "9486e07c-9281-4852-8f4c-da2552194960",
   "metadata": {},
   "source": [
    "#### e. Apply GST of 18% on mobile phones prices and update this array."
   ]
  },
  {
   "cell_type": "code",
   "execution_count": 59,
   "id": "3849a10b-eaf3-41c4-ab5f-18516f2fce69",
   "metadata": {},
   "outputs": [
    {
     "data": {
      "text/plain": [
       "array([ 8258.82,  8850.  , 14158.82, 32920.82, 17698.82, 11798.82,\n",
       "       16518.82])"
      ]
     },
     "execution_count": 59,
     "metadata": {},
     "output_type": "execute_result"
    }
   ],
   "source": [
    "arr3=arr2*1.18\n",
    "arr3"
   ]
  },
  {
   "cell_type": "markdown",
   "id": "6933839d-e943-4067-ac6c-23ca363e9cd2",
   "metadata": {},
   "source": [
    "#### f. Sort the array in descending order of price "
   ]
  },
  {
   "cell_type": "code",
   "execution_count": 79,
   "id": "7f8fb7dc-5b25-438e-a3f3-05dcbe862a3d",
   "metadata": {},
   "outputs": [
    {
     "data": {
      "text/plain": [
       "array([27899, 14999, 13999, 11999,  9999,  7500,  6999])"
      ]
     },
     "execution_count": 79,
     "metadata": {},
     "output_type": "execute_result"
    }
   ],
   "source": [
    "np.sort(arr2)[::-1]"
   ]
  },
  {
   "cell_type": "code",
   "execution_count": 80,
   "id": "e2aeacc2-b1ed-4416-9358-a1ace909dff5",
   "metadata": {},
   "outputs": [
    {
     "data": {
      "text/plain": [
       "array([ 6999,  7500,  9999, 11999, 13999, 14999, 27899])"
      ]
     },
     "execution_count": 80,
     "metadata": {},
     "output_type": "execute_result"
    }
   ],
   "source": [
    "arr2"
   ]
  },
  {
   "cell_type": "markdown",
   "id": "8980832f-b451-4477-9d4f-14c44d6baa4b",
   "metadata": {},
   "source": [
    "#### g. What is the average mobile phone price "
   ]
  },
  {
   "cell_type": "code",
   "execution_count": 62,
   "id": "e81a967a-3f6f-40e5-9d20-a59ae133dbb7",
   "metadata": {},
   "outputs": [
    {
     "data": {
      "text/plain": [
       "np.float64(13342.0)"
      ]
     },
     "execution_count": 62,
     "metadata": {},
     "output_type": "execute_result"
    }
   ],
   "source": [
    "arr2.mean()"
   ]
  },
  {
   "cell_type": "markdown",
   "id": "858d7b57-77e8-4b58-9e5e-af2ca6b52a06",
   "metadata": {},
   "source": [
    "#### h. What is the difference b/w maximum and minimum price "
   ]
  },
  {
   "cell_type": "code",
   "execution_count": 63,
   "id": "4b5244fd-1f39-42ff-b030-eceaf2cacf40",
   "metadata": {},
   "outputs": [
    {
     "data": {
      "text/plain": [
       "np.int64(20900)"
      ]
     },
     "execution_count": 63,
     "metadata": {},
     "output_type": "execute_result"
    }
   ],
   "source": [
    "arr2.max() - arr2.min()"
   ]
  },
  {
   "cell_type": "markdown",
   "id": "ec9bf6b9-a792-46cc-92cf-9e317f29b671",
   "metadata": {},
   "source": [
    "###  Find out the indices of non zero element in given array  [1,2,0,0,4,0]"
   ]
  },
  {
   "cell_type": "code",
   "execution_count": 64,
   "id": "56ef6162-eea7-4556-8005-74fc7750af76",
   "metadata": {},
   "outputs": [
    {
     "data": {
      "text/plain": [
       "array([1, 2, 0, 0, 4, 0])"
      ]
     },
     "execution_count": 64,
     "metadata": {},
     "output_type": "execute_result"
    }
   ],
   "source": [
    "arr3 = np.array([1,2,0,0,4,0])\n",
    "arr3"
   ]
  },
  {
   "cell_type": "code",
   "execution_count": 65,
   "id": "eba3a04d-271f-43fe-b32e-c27436d2d229",
   "metadata": {},
   "outputs": [
    {
     "data": {
      "text/plain": [
       "(array([0, 1, 4]),)"
      ]
     },
     "execution_count": 65,
     "metadata": {},
     "output_type": "execute_result"
    }
   ],
   "source": [
    "arr3.nonzero()"
   ]
  },
  {
   "cell_type": "code",
   "execution_count": null,
   "id": "62dace04-02af-4d2d-acbd-c2a9692d52ea",
   "metadata": {},
   "outputs": [],
   "source": []
  }
 ],
 "metadata": {
  "kernelspec": {
   "display_name": "Python 3 (ipykernel)",
   "language": "python",
   "name": "python3"
  },
  "language_info": {
   "codemirror_mode": {
    "name": "ipython",
    "version": 3
   },
   "file_extension": ".py",
   "mimetype": "text/x-python",
   "name": "python",
   "nbconvert_exporter": "python",
   "pygments_lexer": "ipython3",
   "version": "3.13.3"
  }
 },
 "nbformat": 4,
 "nbformat_minor": 5
}
