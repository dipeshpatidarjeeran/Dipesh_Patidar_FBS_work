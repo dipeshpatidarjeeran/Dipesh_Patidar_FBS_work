{
 "cells": [
  {
   "cell_type": "code",
   "execution_count": 2,
   "id": "52ed988a-7fb7-417c-85d9-352642825e01",
   "metadata": {},
   "outputs": [
    {
     "name": "stdout",
     "output_type": "stream",
     "text": [
      "hello world\n"
     ]
    }
   ],
   "source": [
    "print(\"hello world\")"
   ]
  },
  {
   "cell_type": "code",
   "execution_count": 3,
   "id": "5b4fdcad-d395-4898-92e3-a68054c38293",
   "metadata": {},
   "outputs": [
    {
     "name": "stdout",
     "output_type": "stream",
     "text": [
      "this is jupyter notebook\n"
     ]
    }
   ],
   "source": [
    "print(\"this is jupyter notebook\")"
   ]
  },
  {
   "cell_type": "markdown",
   "id": "b3339a9d-1a94-4fb9-98da-70163fa4ace0",
   "metadata": {},
   "source": [
    "this is basic explaination"
   ]
  }
 ],
 "metadata": {
  "kernelspec": {
   "display_name": "Python 3 (ipykernel)",
   "language": "python",
   "name": "python3"
  },
  "language_info": {
   "codemirror_mode": {
    "name": "ipython",
    "version": 3
   },
   "file_extension": ".py",
   "mimetype": "text/x-python",
   "name": "python",
   "nbconvert_exporter": "python",
   "pygments_lexer": "ipython3",
   "version": "3.13.3"
  }
 },
 "nbformat": 4,
 "nbformat_minor": 5
}
