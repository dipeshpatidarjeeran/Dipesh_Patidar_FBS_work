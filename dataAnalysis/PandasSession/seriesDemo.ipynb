{
 "cells": [
  {
   "cell_type": "code",
   "execution_count": 1,
   "id": "1357a853-77c0-46cb-8cc4-621a34af3f52",
   "metadata": {},
   "outputs": [],
   "source": [
    "import pandas as pd\n",
    "import numpy as np"
   ]
  },
  {
   "cell_type": "code",
   "execution_count": 2,
   "id": "76e2c148-b279-458a-95e4-52af48fd3aec",
   "metadata": {},
   "outputs": [
    {
     "data": {
      "text/plain": [
       "0    2\n",
       "1    3\n",
       "2    5\n",
       "3    6\n",
       "4    7\n",
       "dtype: int64"
      ]
     },
     "execution_count": 2,
     "metadata": {},
     "output_type": "execute_result"
    }
   ],
   "source": [
    "s1 = pd.Series([2,3,5,6,7])\n",
    "s1"
   ]
  },
  {
   "cell_type": "code",
   "execution_count": 3,
   "id": "332b05fe-b186-4991-b174-f0eafcd5c815",
   "metadata": {},
   "outputs": [
    {
     "data": {
      "text/plain": [
       "a    2\n",
       "b    3\n",
       "c    5\n",
       "d    6\n",
       "e    7\n",
       "dtype: int64"
      ]
     },
     "execution_count": 3,
     "metadata": {},
     "output_type": "execute_result"
    }
   ],
   "source": [
    "s1.index = ['a','b','c','d','e']\n",
    "s1"
   ]
  },
  {
   "cell_type": "code",
   "execution_count": 4,
   "id": "63f14757-653d-4989-b020-a92bf85b84b5",
   "metadata": {},
   "outputs": [
    {
     "data": {
      "text/plain": [
       "IT         34\n",
       "HR         56\n",
       "admin      23\n",
       "Account    43\n",
       "dtype: int64"
      ]
     },
     "execution_count": 4,
     "metadata": {},
     "output_type": "execute_result"
    }
   ],
   "source": [
    "s1 = pd.Series([34,56,23,43],index=['IT','HR','admin','Account'])\n",
    "s1"
   ]
  },
  {
   "cell_type": "code",
   "execution_count": 5,
   "id": "e1e1003a-989e-4201-8919-d0ae1408ec97",
   "metadata": {},
   "outputs": [
    {
     "data": {
      "text/plain": [
       "ram       76\n",
       "suraj     66\n",
       "dipesh    88\n",
       "ganesh    69\n",
       "dtype: int64"
      ]
     },
     "execution_count": 5,
     "metadata": {},
     "output_type": "execute_result"
    }
   ],
   "source": [
    "marks = pd.Series({'ram':76,'suraj':66,'dipesh':88,'ganesh':69})\n",
    "marks"
   ]
  },
  {
   "cell_type": "markdown",
   "id": "62751a0b-ded8-4a73-9e8d-0f6c8baf7430",
   "metadata": {},
   "source": [
    "## Operations on Series"
   ]
  },
  {
   "cell_type": "code",
   "execution_count": 6,
   "id": "f5406798-1e3e-432c-8a76-2bb65fda63e6",
   "metadata": {},
   "outputs": [
    {
     "data": {
      "text/plain": [
       "0    12\n",
       "1    43\n",
       "2    27\n",
       "3    25\n",
       "4    15\n",
       "dtype: int32"
      ]
     },
     "execution_count": 6,
     "metadata": {},
     "output_type": "execute_result"
    }
   ],
   "source": [
    "s1 = pd.Series(np.random.randint(1,50,5))\n",
    "s1"
   ]
  },
  {
   "cell_type": "code",
   "execution_count": 7,
   "id": "728d796b-4f54-44d1-91c2-a5d1d7c7de3c",
   "metadata": {},
   "outputs": [
    {
     "data": {
      "text/plain": [
       "0    1\n",
       "1    2\n",
       "2    3\n",
       "3    4\n",
       "4    5\n",
       "dtype: int64"
      ]
     },
     "execution_count": 7,
     "metadata": {},
     "output_type": "execute_result"
    }
   ],
   "source": [
    "s2 = pd.Series(np.arange(1,6))\n",
    "s2"
   ]
  },
  {
   "cell_type": "code",
   "execution_count": 8,
   "id": "5a6b7bfb-a010-4a20-8c1c-9c38326f5977",
   "metadata": {},
   "outputs": [
    {
     "data": {
      "text/plain": [
       "0    13\n",
       "1    45\n",
       "2    30\n",
       "3    29\n",
       "4    20\n",
       "dtype: int64"
      ]
     },
     "execution_count": 8,
     "metadata": {},
     "output_type": "execute_result"
    }
   ],
   "source": [
    "s1 + s2"
   ]
  },
  {
   "cell_type": "code",
   "execution_count": 9,
   "id": "42b77d5d-328b-4945-9e35-634bd023370d",
   "metadata": {},
   "outputs": [
    {
     "data": {
      "text/plain": [
       "0    1\n",
       "1    2\n",
       "2    3\n",
       "3    4\n",
       "4    5\n",
       "5    6\n",
       "dtype: int64"
      ]
     },
     "execution_count": 9,
     "metadata": {},
     "output_type": "execute_result"
    }
   ],
   "source": [
    "s3 = pd.Series(np.arange(1,7))\n",
    "s3"
   ]
  },
  {
   "cell_type": "code",
   "execution_count": 10,
   "id": "63992ee2-38e0-4528-bbc0-1bf1b222c921",
   "metadata": {},
   "outputs": [
    {
     "data": {
      "text/plain": [
       "0    13.0\n",
       "1    45.0\n",
       "2    30.0\n",
       "3    29.0\n",
       "4    20.0\n",
       "5     NaN\n",
       "dtype: float64"
      ]
     },
     "execution_count": 10,
     "metadata": {},
     "output_type": "execute_result"
    }
   ],
   "source": [
    "s1 + s3"
   ]
  },
  {
   "cell_type": "code",
   "execution_count": 12,
   "id": "b8a2b64e-f98d-41f5-90db-cd6f08390a7b",
   "metadata": {},
   "outputs": [
    {
     "data": {
      "text/plain": [
       "0        1\n",
       "1        3\n",
       "2     3.14\n",
       "3      ram\n",
       "4    False\n",
       "dtype: object"
      ]
     },
     "execution_count": 12,
     "metadata": {},
     "output_type": "execute_result"
    }
   ],
   "source": [
    "s4 = pd.Series([1,3,3.14,'ram',False])\n",
    "s4"
   ]
  },
  {
   "cell_type": "code",
   "execution_count": 24,
   "id": "eddad38b-f7eb-4ece-a112-fef529126cf7",
   "metadata": {},
   "outputs": [
    {
     "data": {
      "text/plain": [
       "suraj     66\n",
       "ganesh    69\n",
       "dtype: int64"
      ]
     },
     "execution_count": 24,
     "metadata": {},
     "output_type": "execute_result"
    }
   ],
   "source": [
    "marks[marks < 70]    #conditional selection"
   ]
  },
  {
   "cell_type": "code",
   "execution_count": 17,
   "id": "868e2961-c18e-4e4c-a531-4089ac8ee538",
   "metadata": {},
   "outputs": [
    {
     "data": {
      "text/plain": [
       "ram       76\n",
       "suraj     66\n",
       "dipesh    88\n",
       "ganesh    69\n",
       "dtype: int64"
      ]
     },
     "execution_count": 17,
     "metadata": {},
     "output_type": "execute_result"
    }
   ],
   "source": [
    "marks"
   ]
  },
  {
   "cell_type": "code",
   "execution_count": 23,
   "id": "63cfd79e-d9a9-481c-b64d-65e658592c37",
   "metadata": {},
   "outputs": [
    {
     "data": {
      "text/plain": [
       "np.int64(88)"
      ]
     },
     "execution_count": 23,
     "metadata": {},
     "output_type": "execute_result"
    }
   ],
   "source": [
    "marks['dipesh']  # selecting element by default index"
   ]
  },
  {
   "cell_type": "code",
   "execution_count": 19,
   "id": "c429ed6b-eed5-44d7-a261-e5bef8c27926",
   "metadata": {},
   "outputs": [
    {
     "data": {
      "text/plain": [
       "0    12\n",
       "1    43\n",
       "2    27\n",
       "3    25\n",
       "4    15\n",
       "dtype: int32"
      ]
     },
     "execution_count": 19,
     "metadata": {},
     "output_type": "execute_result"
    }
   ],
   "source": [
    "s1"
   ]
  },
  {
   "cell_type": "code",
   "execution_count": 20,
   "id": "065440e2-16d1-44b7-8452-5adcf91b659c",
   "metadata": {},
   "outputs": [
    {
     "data": {
      "text/plain": [
       "IT         34\n",
       "HR         56\n",
       "admin      23\n",
       "Account    43\n",
       "dtype: int64"
      ]
     },
     "execution_count": 20,
     "metadata": {},
     "output_type": "execute_result"
    }
   ],
   "source": [
    "s5 = pd.Series([34,56,23,43],index=['IT','HR','admin','Account'])\n",
    "s5"
   ]
  },
  {
   "cell_type": "code",
   "execution_count": 22,
   "id": "0f1384ff-bdf5-4959-89f4-257dbee93c30",
   "metadata": {},
   "outputs": [
    {
     "data": {
      "text/plain": [
       "np.int64(43)"
      ]
     },
     "execution_count": 22,
     "metadata": {},
     "output_type": "execute_result"
    }
   ],
   "source": [
    "s5.iloc[3]   # seletive element by laballed index"
   ]
  },
  {
   "cell_type": "code",
   "execution_count": null,
   "id": "d2b503e2-cb48-4e66-8d71-e623e7de149e",
   "metadata": {},
   "outputs": [],
   "source": []
  }
 ],
 "metadata": {
  "kernelspec": {
   "display_name": "Python 3 (ipykernel)",
   "language": "python",
   "name": "python3"
  },
  "language_info": {
   "codemirror_mode": {
    "name": "ipython",
    "version": 3
   },
   "file_extension": ".py",
   "mimetype": "text/x-python",
   "name": "python",
   "nbconvert_exporter": "python",
   "pygments_lexer": "ipython3",
   "version": "3.13.3"
  }
 },
 "nbformat": 4,
 "nbformat_minor": 5
}
